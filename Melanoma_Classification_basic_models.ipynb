{
 "cells": [
  {
   "cell_type": "code",
   "execution_count": 40,
   "id": "773018df",
   "metadata": {},
   "outputs": [],
   "source": [
    "import pandas as pd\n",
    "import numpy as np\n",
    "import matplotlib.pyplot as plt\n",
    "from sklearn import model_selection\n",
    "from sklearn.ensemble import RandomForestClassifier\n",
    "from sklearn.neighbors import KNeighborsClassifier\n",
    "from sklearn import linear_model\n",
    "from sklearn import metrics\n",
    "from sklearn.metrics import balanced_accuracy_score\n",
    "import tensorflow as tf\n",
    "from sklearn.metrics import confusion_matrix\n",
    "from sklearn.metrics import classification_report"
   ]
  },
  {
   "cell_type": "code",
   "execution_count": 84,
   "id": "c0a2c47b",
   "metadata": {},
   "outputs": [],
   "source": [
    "# The data used in this file is in the excel file in the zip folder called 'final_data.csv'\n",
    "data = pd.read_csv('final_data.csv')"
   ]
  },
  {
   "cell_type": "code",
   "execution_count": 85,
   "id": "39b4aa7d",
   "metadata": {},
   "outputs": [
    {
     "data": {
      "text/html": [
       "<div>\n",
       "<style scoped>\n",
       "    .dataframe tbody tr th:only-of-type {\n",
       "        vertical-align: middle;\n",
       "    }\n",
       "\n",
       "    .dataframe tbody tr th {\n",
       "        vertical-align: top;\n",
       "    }\n",
       "\n",
       "    .dataframe thead th {\n",
       "        text-align: right;\n",
       "    }\n",
       "</style>\n",
       "<table border=\"1\" class=\"dataframe\">\n",
       "  <thead>\n",
       "    <tr style=\"text-align: right;\">\n",
       "      <th></th>\n",
       "      <th>image</th>\n",
       "      <th>Pixel 1</th>\n",
       "      <th>Pixel 2</th>\n",
       "      <th>Pixel 3</th>\n",
       "      <th>Pixel 4</th>\n",
       "      <th>Pixel 5</th>\n",
       "      <th>Pixel 6</th>\n",
       "      <th>Pixel 7</th>\n",
       "      <th>Pixel 8</th>\n",
       "      <th>Pixel 9</th>\n",
       "      <th>...</th>\n",
       "      <th>Pixel 780</th>\n",
       "      <th>Pixel 781</th>\n",
       "      <th>Pixel 782</th>\n",
       "      <th>Pixel 783</th>\n",
       "      <th>Pixel 784</th>\n",
       "      <th>Age</th>\n",
       "      <th>anatom_site_general</th>\n",
       "      <th>Gender</th>\n",
       "      <th>female_encoded</th>\n",
       "      <th>Target</th>\n",
       "    </tr>\n",
       "  </thead>\n",
       "  <tbody>\n",
       "    <tr>\n",
       "      <th>0</th>\n",
       "      <td>ISIC_0000000</td>\n",
       "      <td>186</td>\n",
       "      <td>196</td>\n",
       "      <td>203</td>\n",
       "      <td>207</td>\n",
       "      <td>206</td>\n",
       "      <td>205</td>\n",
       "      <td>204</td>\n",
       "      <td>204</td>\n",
       "      <td>204</td>\n",
       "      <td>...</td>\n",
       "      <td>215</td>\n",
       "      <td>217</td>\n",
       "      <td>217</td>\n",
       "      <td>219</td>\n",
       "      <td>218</td>\n",
       "      <td>55</td>\n",
       "      <td>anterior torso</td>\n",
       "      <td>female</td>\n",
       "      <td>1</td>\n",
       "      <td>2</td>\n",
       "    </tr>\n",
       "    <tr>\n",
       "      <th>1</th>\n",
       "      <td>ISIC_0000001</td>\n",
       "      <td>144</td>\n",
       "      <td>155</td>\n",
       "      <td>168</td>\n",
       "      <td>173</td>\n",
       "      <td>175</td>\n",
       "      <td>174</td>\n",
       "      <td>173</td>\n",
       "      <td>175</td>\n",
       "      <td>173</td>\n",
       "      <td>...</td>\n",
       "      <td>180</td>\n",
       "      <td>181</td>\n",
       "      <td>181</td>\n",
       "      <td>180</td>\n",
       "      <td>180</td>\n",
       "      <td>30</td>\n",
       "      <td>anterior torso</td>\n",
       "      <td>female</td>\n",
       "      <td>1</td>\n",
       "      <td>2</td>\n",
       "    </tr>\n",
       "    <tr>\n",
       "      <th>2</th>\n",
       "      <td>ISIC_0000002</td>\n",
       "      <td>16</td>\n",
       "      <td>8</td>\n",
       "      <td>25</td>\n",
       "      <td>76</td>\n",
       "      <td>120</td>\n",
       "      <td>151</td>\n",
       "      <td>165</td>\n",
       "      <td>177</td>\n",
       "      <td>182</td>\n",
       "      <td>...</td>\n",
       "      <td>188</td>\n",
       "      <td>177</td>\n",
       "      <td>153</td>\n",
       "      <td>114</td>\n",
       "      <td>66</td>\n",
       "      <td>60</td>\n",
       "      <td>upper extremity</td>\n",
       "      <td>female</td>\n",
       "      <td>1</td>\n",
       "      <td>1</td>\n",
       "    </tr>\n",
       "    <tr>\n",
       "      <th>3</th>\n",
       "      <td>ISIC_0000003</td>\n",
       "      <td>223</td>\n",
       "      <td>220</td>\n",
       "      <td>218</td>\n",
       "      <td>219</td>\n",
       "      <td>221</td>\n",
       "      <td>222</td>\n",
       "      <td>220</td>\n",
       "      <td>217</td>\n",
       "      <td>216</td>\n",
       "      <td>...</td>\n",
       "      <td>221</td>\n",
       "      <td>223</td>\n",
       "      <td>225</td>\n",
       "      <td>223</td>\n",
       "      <td>224</td>\n",
       "      <td>30</td>\n",
       "      <td>upper extremity</td>\n",
       "      <td>male</td>\n",
       "      <td>0</td>\n",
       "      <td>2</td>\n",
       "    </tr>\n",
       "    <tr>\n",
       "      <th>4</th>\n",
       "      <td>ISIC_0000004</td>\n",
       "      <td>12</td>\n",
       "      <td>7</td>\n",
       "      <td>7</td>\n",
       "      <td>7</td>\n",
       "      <td>7</td>\n",
       "      <td>7</td>\n",
       "      <td>7</td>\n",
       "      <td>7</td>\n",
       "      <td>7</td>\n",
       "      <td>...</td>\n",
       "      <td>7</td>\n",
       "      <td>7</td>\n",
       "      <td>7</td>\n",
       "      <td>6</td>\n",
       "      <td>12</td>\n",
       "      <td>80</td>\n",
       "      <td>posterior torso</td>\n",
       "      <td>male</td>\n",
       "      <td>0</td>\n",
       "      <td>1</td>\n",
       "    </tr>\n",
       "  </tbody>\n",
       "</table>\n",
       "<p>5 rows × 790 columns</p>\n",
       "</div>"
      ],
      "text/plain": [
       "          image  Pixel 1  Pixel 2  Pixel 3  Pixel 4  Pixel 5  Pixel 6  \\\n",
       "0  ISIC_0000000      186      196      203      207      206      205   \n",
       "1  ISIC_0000001      144      155      168      173      175      174   \n",
       "2  ISIC_0000002       16        8       25       76      120      151   \n",
       "3  ISIC_0000003      223      220      218      219      221      222   \n",
       "4  ISIC_0000004       12        7        7        7        7        7   \n",
       "\n",
       "   Pixel 7  Pixel 8  Pixel 9  ...  Pixel 780  Pixel 781  Pixel 782  Pixel 783  \\\n",
       "0      204      204      204  ...        215        217        217        219   \n",
       "1      173      175      173  ...        180        181        181        180   \n",
       "2      165      177      182  ...        188        177        153        114   \n",
       "3      220      217      216  ...        221        223        225        223   \n",
       "4        7        7        7  ...          7          7          7          6   \n",
       "\n",
       "   Pixel 784  Age  anatom_site_general  Gender  female_encoded  Target  \n",
       "0        218   55       anterior torso  female               1       2  \n",
       "1        180   30       anterior torso  female               1       2  \n",
       "2         66   60      upper extremity  female               1       1  \n",
       "3        224   30      upper extremity    male               0       2  \n",
       "4         12   80      posterior torso    male               0       1  \n",
       "\n",
       "[5 rows x 790 columns]"
      ]
     },
     "execution_count": 85,
     "metadata": {},
     "output_type": "execute_result"
    }
   ],
   "source": [
    "data.head()"
   ]
  },
  {
   "cell_type": "code",
   "execution_count": 6,
   "id": "e5d56592",
   "metadata": {},
   "outputs": [],
   "source": [
    "# Get one hot encoding of meta data columns\n",
    "one_hot = pd.get_dummies(data['anatom_site_general'])\n",
    "# Drop original column as it is now encoded\n",
    "data = data.drop('anatom_site_general',axis = 1)\n",
    "# Join the encoded df\n",
    "data = data.join(one_hot)"
   ]
  },
  {
   "cell_type": "code",
   "execution_count": 7,
   "id": "6ed94cb7",
   "metadata": {},
   "outputs": [
    {
     "data": {
      "text/html": [
       "<div>\n",
       "<style scoped>\n",
       "    .dataframe tbody tr th:only-of-type {\n",
       "        vertical-align: middle;\n",
       "    }\n",
       "\n",
       "    .dataframe tbody tr th {\n",
       "        vertical-align: top;\n",
       "    }\n",
       "\n",
       "    .dataframe thead th {\n",
       "        text-align: right;\n",
       "    }\n",
       "</style>\n",
       "<table border=\"1\" class=\"dataframe\">\n",
       "  <thead>\n",
       "    <tr style=\"text-align: right;\">\n",
       "      <th></th>\n",
       "      <th>image</th>\n",
       "      <th>Pixel 1</th>\n",
       "      <th>Pixel 2</th>\n",
       "      <th>Pixel 3</th>\n",
       "      <th>Pixel 4</th>\n",
       "      <th>Pixel 5</th>\n",
       "      <th>Pixel 6</th>\n",
       "      <th>Pixel 7</th>\n",
       "      <th>Pixel 8</th>\n",
       "      <th>Pixel 9</th>\n",
       "      <th>...</th>\n",
       "      <th>Target</th>\n",
       "      <th>0</th>\n",
       "      <th>anterior torso</th>\n",
       "      <th>head/neck</th>\n",
       "      <th>lateral torso</th>\n",
       "      <th>lower extremity</th>\n",
       "      <th>oral/genital</th>\n",
       "      <th>palms/soles</th>\n",
       "      <th>posterior torso</th>\n",
       "      <th>upper extremity</th>\n",
       "    </tr>\n",
       "  </thead>\n",
       "  <tbody>\n",
       "    <tr>\n",
       "      <th>0</th>\n",
       "      <td>ISIC_0000000</td>\n",
       "      <td>186</td>\n",
       "      <td>196</td>\n",
       "      <td>203</td>\n",
       "      <td>207</td>\n",
       "      <td>206</td>\n",
       "      <td>205</td>\n",
       "      <td>204</td>\n",
       "      <td>204</td>\n",
       "      <td>204</td>\n",
       "      <td>...</td>\n",
       "      <td>2</td>\n",
       "      <td>0</td>\n",
       "      <td>1</td>\n",
       "      <td>0</td>\n",
       "      <td>0</td>\n",
       "      <td>0</td>\n",
       "      <td>0</td>\n",
       "      <td>0</td>\n",
       "      <td>0</td>\n",
       "      <td>0</td>\n",
       "    </tr>\n",
       "    <tr>\n",
       "      <th>1</th>\n",
       "      <td>ISIC_0000001</td>\n",
       "      <td>144</td>\n",
       "      <td>155</td>\n",
       "      <td>168</td>\n",
       "      <td>173</td>\n",
       "      <td>175</td>\n",
       "      <td>174</td>\n",
       "      <td>173</td>\n",
       "      <td>175</td>\n",
       "      <td>173</td>\n",
       "      <td>...</td>\n",
       "      <td>2</td>\n",
       "      <td>0</td>\n",
       "      <td>1</td>\n",
       "      <td>0</td>\n",
       "      <td>0</td>\n",
       "      <td>0</td>\n",
       "      <td>0</td>\n",
       "      <td>0</td>\n",
       "      <td>0</td>\n",
       "      <td>0</td>\n",
       "    </tr>\n",
       "    <tr>\n",
       "      <th>2</th>\n",
       "      <td>ISIC_0000002</td>\n",
       "      <td>16</td>\n",
       "      <td>8</td>\n",
       "      <td>25</td>\n",
       "      <td>76</td>\n",
       "      <td>120</td>\n",
       "      <td>151</td>\n",
       "      <td>165</td>\n",
       "      <td>177</td>\n",
       "      <td>182</td>\n",
       "      <td>...</td>\n",
       "      <td>1</td>\n",
       "      <td>0</td>\n",
       "      <td>0</td>\n",
       "      <td>0</td>\n",
       "      <td>0</td>\n",
       "      <td>0</td>\n",
       "      <td>0</td>\n",
       "      <td>0</td>\n",
       "      <td>0</td>\n",
       "      <td>1</td>\n",
       "    </tr>\n",
       "    <tr>\n",
       "      <th>3</th>\n",
       "      <td>ISIC_0000003</td>\n",
       "      <td>223</td>\n",
       "      <td>220</td>\n",
       "      <td>218</td>\n",
       "      <td>219</td>\n",
       "      <td>221</td>\n",
       "      <td>222</td>\n",
       "      <td>220</td>\n",
       "      <td>217</td>\n",
       "      <td>216</td>\n",
       "      <td>...</td>\n",
       "      <td>2</td>\n",
       "      <td>0</td>\n",
       "      <td>0</td>\n",
       "      <td>0</td>\n",
       "      <td>0</td>\n",
       "      <td>0</td>\n",
       "      <td>0</td>\n",
       "      <td>0</td>\n",
       "      <td>0</td>\n",
       "      <td>1</td>\n",
       "    </tr>\n",
       "    <tr>\n",
       "      <th>4</th>\n",
       "      <td>ISIC_0000004</td>\n",
       "      <td>12</td>\n",
       "      <td>7</td>\n",
       "      <td>7</td>\n",
       "      <td>7</td>\n",
       "      <td>7</td>\n",
       "      <td>7</td>\n",
       "      <td>7</td>\n",
       "      <td>7</td>\n",
       "      <td>7</td>\n",
       "      <td>...</td>\n",
       "      <td>1</td>\n",
       "      <td>0</td>\n",
       "      <td>0</td>\n",
       "      <td>0</td>\n",
       "      <td>0</td>\n",
       "      <td>0</td>\n",
       "      <td>0</td>\n",
       "      <td>0</td>\n",
       "      <td>1</td>\n",
       "      <td>0</td>\n",
       "    </tr>\n",
       "  </tbody>\n",
       "</table>\n",
       "<p>5 rows × 798 columns</p>\n",
       "</div>"
      ],
      "text/plain": [
       "          image  Pixel 1  Pixel 2  Pixel 3  Pixel 4  Pixel 5  Pixel 6  \\\n",
       "0  ISIC_0000000      186      196      203      207      206      205   \n",
       "1  ISIC_0000001      144      155      168      173      175      174   \n",
       "2  ISIC_0000002       16        8       25       76      120      151   \n",
       "3  ISIC_0000003      223      220      218      219      221      222   \n",
       "4  ISIC_0000004       12        7        7        7        7        7   \n",
       "\n",
       "   Pixel 7  Pixel 8  Pixel 9  ...  Target  0  anterior torso  head/neck  \\\n",
       "0      204      204      204  ...       2  0               1          0   \n",
       "1      173      175      173  ...       2  0               1          0   \n",
       "2      165      177      182  ...       1  0               0          0   \n",
       "3      220      217      216  ...       2  0               0          0   \n",
       "4        7        7        7  ...       1  0               0          0   \n",
       "\n",
       "   lateral torso  lower extremity  oral/genital  palms/soles  posterior torso  \\\n",
       "0              0                0             0            0                0   \n",
       "1              0                0             0            0                0   \n",
       "2              0                0             0            0                0   \n",
       "3              0                0             0            0                0   \n",
       "4              0                0             0            0                1   \n",
       "\n",
       "   upper extremity  \n",
       "0                0  \n",
       "1                0  \n",
       "2                1  \n",
       "3                1  \n",
       "4                0  \n",
       "\n",
       "[5 rows x 798 columns]"
      ]
     },
     "execution_count": 7,
     "metadata": {},
     "output_type": "execute_result"
    }
   ],
   "source": [
    "data.head()"
   ]
  },
  {
   "cell_type": "code",
   "execution_count": 8,
   "id": "c39af89c",
   "metadata": {},
   "outputs": [],
   "source": [
    "X=data.drop(['image','Target','Gender'], axis=1) # drop image_id, target column, and encoded column for X data\n",
    "y= data['Target'] # take only the target data for y"
   ]
  },
  {
   "cell_type": "code",
   "execution_count": 9,
   "id": "12b64be3",
   "metadata": {},
   "outputs": [],
   "source": [
    "# Create train and test data \n",
    "X_train, X_test, y_train, y_test = model_selection.train_test_split(X, y, test_size= 0.3, random_state = 1)"
   ]
  },
  {
   "cell_type": "code",
   "execution_count": 10,
   "id": "16333f12",
   "metadata": {},
   "outputs": [
    {
     "name": "stdout",
     "output_type": "stream",
     "text": [
      "X_train dimension=  (17731, 795)\n",
      "X_test dimension=  (7600, 795)\n",
      "y_train dimension=  (17731,)\n",
      "y_train dimension=  (7600,)\n"
     ]
    }
   ],
   "source": [
    "print('X_train dimension= ', X_train.shape)\n",
    "print('X_test dimension= ', X_test.shape)\n",
    "print('y_train dimension= ', y_train.shape)\n",
    "print('y_train dimension= ', y_test.shape)"
   ]
  },
  {
   "cell_type": "markdown",
   "id": "5b3c1d87",
   "metadata": {},
   "source": [
    "## Logistic Regression"
   ]
  },
  {
   "cell_type": "code",
   "execution_count": 11,
   "id": "c9196a50",
   "metadata": {},
   "outputs": [
    {
     "name": "stderr",
     "output_type": "stream",
     "text": [
      "C:\\Users\\mehra\\anaconda3\\lib\\site-packages\\sklearn\\svm\\_base.py:1206: ConvergenceWarning: Liblinear failed to converge, increase the number of iterations.\n",
      "  warnings.warn(\n"
     ]
    },
    {
     "data": {
      "text/plain": [
       "LogisticRegression(multi_class='ovr', solver='liblinear')"
      ]
     },
     "execution_count": 11,
     "metadata": {},
     "output_type": "execute_result"
    }
   ],
   "source": [
    "# Initialize and fit model\n",
    "lm = linear_model.LogisticRegression(multi_class='ovr', solver='liblinear')\n",
    "lm.fit(X_train, y_train)"
   ]
  },
  {
   "cell_type": "code",
   "execution_count": 12,
   "id": "c5f10307",
   "metadata": {},
   "outputs": [],
   "source": [
    "# Predict on test set\n",
    "y_test_pred=lm.predict(X_test)"
   ]
  },
  {
   "cell_type": "code",
   "execution_count": 52,
   "id": "e80e7dcb",
   "metadata": {},
   "outputs": [
    {
     "name": "stdout",
     "output_type": "stream",
     "text": [
      "The accuracy with logistic regression is:  22.599 %\n"
     ]
    }
   ],
   "source": [
    "# Get balanced accuracy score \n",
    "logit_accuracy= balanced_accuracy_score(y_test, y_test_pred)*100\n",
    "print('The accuracy with logistic regression is: ', round(logit_accuracy,3),'%' )"
   ]
  },
  {
   "cell_type": "markdown",
   "id": "3bda0531",
   "metadata": {},
   "source": [
    "## Random Forest"
   ]
  },
  {
   "cell_type": "code",
   "execution_count": 73,
   "id": "d6600219",
   "metadata": {},
   "outputs": [
    {
     "data": {
      "text/plain": [
       "RandomForestClassifier(criterion='entropy', random_state=42)"
      ]
     },
     "execution_count": 73,
     "metadata": {},
     "output_type": "execute_result"
    }
   ],
   "source": [
    "# Initialize and fit model\n",
    "rf = RandomForestClassifier(n_estimators = 100, criterion = 'entropy', random_state = 42)\n",
    "rf.fit(X_train, y_train)"
   ]
  },
  {
   "cell_type": "code",
   "execution_count": 74,
   "id": "238a4b33",
   "metadata": {},
   "outputs": [],
   "source": [
    "# Get predictions on test set\n",
    "y_test_pred_rf=rf.predict(X_test)"
   ]
  },
  {
   "cell_type": "code",
   "execution_count": 75,
   "id": "82b1e896",
   "metadata": {
    "scrolled": true
   },
   "outputs": [],
   "source": [
    "# rf_accuracy= rf.score(X_test, y_test)*100\n",
    "# print('The accuracy with Random Forests is: ', round(rf_accuracy,3),'%' )"
   ]
  },
  {
   "cell_type": "code",
   "execution_count": 76,
   "id": "ea32d96e",
   "metadata": {},
   "outputs": [
    {
     "name": "stdout",
     "output_type": "stream",
     "text": [
      "The train accuracy with Random Forests is:  100.0 %\n"
     ]
    }
   ],
   "source": [
    "# Balanced accurcy on train set\n",
    "y_train_pred_rf= rf.predict(X_train)\n",
    "rf_train_accuracy= balanced_accuracy_score(y_train, y_train_pred_rf)*100\n",
    "print('The train accuracy with Random Forests is: ', round(rf_train_accuracy,3),'%' )"
   ]
  },
  {
   "cell_type": "code",
   "execution_count": 77,
   "id": "8a8cb483",
   "metadata": {},
   "outputs": [
    {
     "name": "stdout",
     "output_type": "stream",
     "text": [
      "The test accuracy with Random Forests is:  27.045 %\n"
     ]
    }
   ],
   "source": [
    "# balanced accuracy on test set\n",
    "rf_accuracy=balanced_accuracy_score(y_test, y_test_pred_rf)*100\n",
    "print('The test accuracy with Random Forests is: ', round(rf_accuracy,3),'%' )"
   ]
  },
  {
   "cell_type": "code",
   "execution_count": 78,
   "id": "358d5e90",
   "metadata": {},
   "outputs": [],
   "source": [
    "# Perform grid search and CV\n",
    "\n",
    "\n",
    "from sklearn.model_selection import RandomizedSearchCV\n",
    "# Number of trees in random forest\n",
    "n_estimators = [int(x) for x in np.linspace(start = 200, stop = 2000, num = 10)]\n",
    "# Number of features to consider at every split\n",
    "max_features = ['auto', 'sqrt']\n",
    "# Maximum number of levels in tree\n",
    "max_depth = [int(x) for x in np.linspace(10, 110, num = 11)]\n",
    "max_depth.append(None)\n",
    "# Minimum number of samples required to split a node\n",
    "min_samples_split = [2, 5, 10]\n",
    "# Minimum number of samples required at each leaf node\n",
    "min_samples_leaf = [1, 2, 4]\n",
    "# Method of selecting samples for training each tree\n",
    "bootstrap = [True, False]\n",
    "# Create the random grid\n",
    "random_grid = {'n_estimators': n_estimators,\n",
    "               'max_features': max_features,\n",
    "               'max_depth': max_depth,\n",
    "               'min_samples_split': min_samples_split,\n",
    "               'min_samples_leaf': min_samples_leaf,\n",
    "               'bootstrap': bootstrap}"
   ]
  },
  {
   "cell_type": "code",
   "execution_count": 80,
   "id": "fbb187f8",
   "metadata": {},
   "outputs": [],
   "source": [
    "# Use the random grid to search for best hyperparameters\n",
    "# First create the base model to tune\n",
    "rf2 = RandomForestClassifier()\n",
    "# Random search of parameters, using 3 fold cross validation, \n",
    "# search across 100 different combinations, and use all available cores\n",
    "rf2_random = RandomizedSearchCV(estimator = rf2, param_distributions = random_grid, n_iter = 100, cv = 3, verbose=2, random_state=42, n_jobs = -1)\n",
    "# Fit the random search model\n",
    "rf2_random.fit(X_train, y_train)"
   ]
  },
  {
   "cell_type": "code",
   "execution_count": 81,
   "id": "26989fe2",
   "metadata": {},
   "outputs": [
    {
     "data": {
      "text/plain": [
       "array([[ 512,  729,   87,    4,   10,    0,    0,    0],\n",
       "       [ 113, 3685,   80,    0,   11,    0,    0,    0],\n",
       "       [  51,  408,  518,   10,   15,    0,    0,    0],\n",
       "       [  17,   61,  113,   38,   13,    0,    0,    0],\n",
       "       [  86,  462,  144,    8,  105,    0,    0,    1],\n",
       "       [   6,   50,   17,    0,    0,    1,    0,    0],\n",
       "       [   4,   60,    2,    0,    0,    0,    0,    0],\n",
       "       [  16,   77,   71,    5,    7,    0,    0,    3]], dtype=int64)"
      ]
     },
     "execution_count": 81,
     "metadata": {},
     "output_type": "execute_result"
    }
   ],
   "source": [
    "# Random Forest Confusion matrix\n",
    "confusion_matrix(y_test, y_test_pred_rf)"
   ]
  },
  {
   "cell_type": "code",
   "execution_count": 82,
   "id": "19817430",
   "metadata": {},
   "outputs": [
    {
     "name": "stdout",
     "output_type": "stream",
     "text": [
      "Classification Report:\n",
      "              precision    recall  f1-score   support\n",
      "\n",
      "           1       0.64      0.38      0.48      1342\n",
      "           2       0.67      0.95      0.78      3889\n",
      "           3       0.50      0.52      0.51      1002\n",
      "           4       0.58      0.16      0.25       242\n",
      "           5       0.65      0.13      0.22       806\n",
      "           6       1.00      0.01      0.03        74\n",
      "           7       0.00      0.00      0.00        66\n",
      "           8       0.75      0.02      0.03       179\n",
      "\n",
      "    accuracy                           0.64      7600\n",
      "   macro avg       0.60      0.27      0.29      7600\n",
      "weighted avg       0.63      0.64      0.58      7600\n",
      "\n",
      "Accuracy: 0.27045019740708864\n"
     ]
    },
    {
     "name": "stderr",
     "output_type": "stream",
     "text": [
      "C:\\Users\\mehra\\anaconda3\\lib\\site-packages\\sklearn\\metrics\\_classification.py:1308: UndefinedMetricWarning: Precision and F-score are ill-defined and being set to 0.0 in labels with no predicted samples. Use `zero_division` parameter to control this behavior.\n",
      "  _warn_prf(average, modifier, msg_start, len(result))\n",
      "C:\\Users\\mehra\\anaconda3\\lib\\site-packages\\sklearn\\metrics\\_classification.py:1308: UndefinedMetricWarning: Precision and F-score are ill-defined and being set to 0.0 in labels with no predicted samples. Use `zero_division` parameter to control this behavior.\n",
      "  _warn_prf(average, modifier, msg_start, len(result))\n",
      "C:\\Users\\mehra\\anaconda3\\lib\\site-packages\\sklearn\\metrics\\_classification.py:1308: UndefinedMetricWarning: Precision and F-score are ill-defined and being set to 0.0 in labels with no predicted samples. Use `zero_division` parameter to control this behavior.\n",
      "  _warn_prf(average, modifier, msg_start, len(result))\n"
     ]
    }
   ],
   "source": [
    "# Random forest Classification report\n",
    "\n",
    "result3 = classification_report(y_test, y_test_pred_rf)\n",
    "print('Classification Report:')\n",
    "print (result3)\n",
    "result4 = balanced_accuracy_score(y_test,y_test_pred_rf)\n",
    "print('Accuracy:',result4)"
   ]
  },
  {
   "cell_type": "markdown",
   "id": "0fe6aa4d",
   "metadata": {},
   "source": [
    "Random forests has perfomed better than Logistic regression, giving us a balanced accuracy of 27%."
   ]
  },
  {
   "cell_type": "markdown",
   "id": "f05a6181",
   "metadata": {},
   "source": [
    "## kNN"
   ]
  },
  {
   "cell_type": "code",
   "execution_count": 68,
   "id": "8ee4db9f",
   "metadata": {},
   "outputs": [
    {
     "data": {
      "text/plain": [
       "KNeighborsClassifier(n_neighbors=8)"
      ]
     },
     "execution_count": 68,
     "metadata": {},
     "output_type": "execute_result"
    }
   ],
   "source": [
    "# Initialize and fit model\n",
    "knn=KNeighborsClassifier(8) # fitting model with the best value of k found below in cross validation\n",
    "knn.fit(X_train,y_train)"
   ]
  },
  {
   "cell_type": "code",
   "execution_count": 69,
   "id": "d3b8a19c",
   "metadata": {},
   "outputs": [],
   "source": [
    "# Get predictions on test set\n",
    "y_test_pred_knn=knn.predict(X_test)"
   ]
  },
  {
   "cell_type": "code",
   "execution_count": 70,
   "id": "ac04a6cb",
   "metadata": {},
   "outputs": [
    {
     "name": "stdout",
     "output_type": "stream",
     "text": [
      "The accuracy with kNN is:  23.243 %\n"
     ]
    }
   ],
   "source": [
    "# Getting balanced acccuracy with best value of k\n",
    "knn_accuracy=balanced_accuracy_score(y_test, y_test_pred_knn)\n",
    "print('The accuracy with kNN is: ', round(knn_accuracy*100,3),'%' )"
   ]
  },
  {
   "cell_type": "code",
   "execution_count": 45,
   "id": "81c1856e",
   "metadata": {},
   "outputs": [
    {
     "name": "stdout",
     "output_type": "stream",
     "text": [
      "Confusion Matrix:\n",
      "[[ 254  824  192   24   42    3    0    3]\n",
      " [ 104 3475  240   23   39    4    0    4]\n",
      " [  34  406  515   21   24    0    1    1]\n",
      " [  12   80  106   27   16    0    0    1]\n",
      " [  39  485  178   11   91    1    0    1]\n",
      " [   4   41   20    2    5    2    0    0]\n",
      " [   0   55    9    0    2    0    0    0]\n",
      " [   7   88   66    9    7    0    0    2]]\n",
      "Classification Report:\n",
      "              precision    recall  f1-score   support\n",
      "\n",
      "           1       0.56      0.19      0.28      1342\n",
      "           2       0.64      0.89      0.74      3889\n",
      "           3       0.39      0.51      0.44      1002\n",
      "           4       0.23      0.11      0.15       242\n",
      "           5       0.40      0.11      0.18       806\n",
      "           6       0.20      0.03      0.05        74\n",
      "           7       0.00      0.00      0.00        66\n",
      "           8       0.17      0.01      0.02       179\n",
      "\n",
      "    accuracy                           0.57      7600\n",
      "   macro avg       0.32      0.23      0.23      7600\n",
      "weighted avg       0.53      0.57      0.51      7600\n",
      "\n",
      "Accuracy: 0.5744736842105264\n"
     ]
    }
   ],
   "source": [
    "# metrics with best value of k\n",
    "from sklearn.metrics import classification_report, confusion_matrix, accuracy_score\n",
    "result = confusion_matrix(y_test, y_test_pred_knn)\n",
    "print('Confusion Matrix:')\n",
    "print(result)\n",
    "result1 = classification_report(y_test, y_test_pred_knn)\n",
    "print('Classification Report:')\n",
    "print (result1)\n",
    "result2 = accuracy_score(y_test,y_test_pred_knn)\n",
    "print('Accuracy:',result2)"
   ]
  },
  {
   "cell_type": "markdown",
   "id": "b12f9121",
   "metadata": {},
   "source": [
    "#### Cross- Validation"
   ]
  },
  {
   "cell_type": "code",
   "execution_count": 61,
   "id": "964dff57",
   "metadata": {},
   "outputs": [
    {
     "name": "stdout",
     "output_type": "stream",
     "text": [
      "[0.46477205 0.58349783 0.6058034  0.54283458 0.49842084]\n",
      "cv_scores mean:0.5390657413322357\n"
     ]
    }
   ],
   "source": [
    "from sklearn.model_selection import cross_val_score\n",
    "import numpy as np\n",
    "#create a new KNN model\n",
    "knn_cv = KNeighborsClassifier(n_neighbors=8) #\n",
    "#train model with cv of 5 \n",
    "cv_scores = cross_val_score(knn_cv, X, y, cv=5)\n",
    "#print each cv score (accuracy) and average them\n",
    "print(cv_scores)\n",
    "print('cv_scores mean:{}'.format(np.mean(cv_scores)))"
   ]
  },
  {
   "cell_type": "markdown",
   "id": "aeb56e71",
   "metadata": {},
   "source": [
    "#### GridSearchCV"
   ]
  },
  {
   "cell_type": "code",
   "execution_count": 71,
   "id": "fac19f82",
   "metadata": {},
   "outputs": [
    {
     "data": {
      "text/plain": [
       "GridSearchCV(cv=5, estimator=KNeighborsClassifier(),\n",
       "             param_grid={'n_neighbors': array([1, 2, 3, 4, 5, 6, 7, 8, 9])})"
      ]
     },
     "execution_count": 71,
     "metadata": {},
     "output_type": "execute_result"
    }
   ],
   "source": [
    "from sklearn.model_selection import GridSearchCV\n",
    "#create new a knn model\n",
    "knn2 = KNeighborsClassifier()\n",
    "#create a dictionary of all values we want to test for n_neighbors\n",
    "param_grid = {'n_neighbors': np.arange(1, 10)}\n",
    "#use gridsearch to test all values for n_neighbors\n",
    "knn_gscv = GridSearchCV(knn2, param_grid, cv=5)\n",
    "#fit model to data\n",
    "knn_gscv.fit(X, y)"
   ]
  },
  {
   "cell_type": "code",
   "execution_count": 72,
   "id": "8568c98b",
   "metadata": {},
   "outputs": [
    {
     "name": "stdout",
     "output_type": "stream",
     "text": [
      "Best value of k:  {'n_neighbors': 8}\n",
      "Mean accuracy:  0.5390657413322357\n"
     ]
    }
   ],
   "source": [
    "#check top performing n_neighbors value\n",
    "print('Best value of k: ',knn_gscv.best_params_)\n",
    "\n",
    "#check mean score for the top performing value of n_neighbors\n",
    "print('Mean accuracy: ',knn_gscv.best_score_)"
   ]
  },
  {
   "cell_type": "markdown",
   "id": "83dab351",
   "metadata": {},
   "source": [
    "Based on all of the above data, we can see that the best k value for kNN is 8 and we get a blanced accuracy of 23.24%.\n",
    "Clearly, Random Forest has performed the best giving us the balanced accuracy score of 27%.\n",
    "Despite the complexity of the problem, having an accuracy of 27% is not acceptable, especially in the medical field. To further our analysis and in an attempt to gain higher accuracy, we have applied the CNN model Xception. Our results can be seen in the skin_lesion_classification_Xception.ipynb file."
   ]
  },
  {
   "cell_type": "code",
   "execution_count": null,
   "id": "f9a656ef",
   "metadata": {},
   "outputs": [],
   "source": []
  }
 ],
 "metadata": {
  "kernelspec": {
   "display_name": "Python 3",
   "language": "python",
   "name": "python3"
  },
  "language_info": {
   "codemirror_mode": {
    "name": "ipython",
    "version": 3
   },
   "file_extension": ".py",
   "mimetype": "text/x-python",
   "name": "python",
   "nbconvert_exporter": "python",
   "pygments_lexer": "ipython3",
   "version": "3.8.8"
  }
 },
 "nbformat": 4,
 "nbformat_minor": 5
}
